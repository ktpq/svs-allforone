{
 "cells": [
  {
   "cell_type": "markdown",
   "id": "4db689fd",
   "metadata": {},
   "source": [
    "# Quiz Part 2"
   ]
  },
  {
   "cell_type": "code",
   "execution_count": 46,
   "id": "8363fdef",
   "metadata": {},
   "outputs": [],
   "source": [
    "# import sys\n",
    "# import os\n",
    "# import django\n",
    "\n",
    "# sys.path.append('..')\n",
    "\n",
    "# os.environ.setdefault('DJANGO_SETTINGS_MODULE', 'university.settings')\n",
    "# os.environ[\"DJANGO_ALLOW_ASYNC_UNSAFE\"] = \"true\"\n",
    "\n",
    "# django.setup()\n",
    "\n",
    "# print(\"Django environment loaded successfully!\")\n",
    "# import sys\n",
    "# import os\n",
    "# import django\n",
    "\n",
    "# sys.path.append('..')\n",
    "\n",
    "# os.environ.setdefault('DJANGO_SETTINGS_MODULE', 'university.settings')\n",
    "# os.environ[\"DJANGO_ALLOW_ASYNC_UNSAFE\"] = \"true\"\n",
    "\n",
    "# django.setup()\n",
    "\n",
    "# print(\"Django environment loaded successfully!\")\n",
    "\n",
    "import os\n",
    "os.environ[\"DJANGO_ALLOW_ASYNC_UNSAFE\"] = \"true\"\n",
    "\n",
    "from school.models import *\n",
    "from datetime import date, datetime\n",
    "from django.db.models import Q, F, Count, Value\n",
    "from django.db.models.functions import Concat\n",
    "import json"
   ]
  },
  {
   "cell_type": "markdown",
   "id": "a158c4a0",
   "metadata": {},
   "source": [
    "***"
   ]
  },
  {
   "cell_type": "markdown",
   "id": "4f708701",
   "metadata": {},
   "source": [
    "1. หาหมวดหมู่ที่ในคำอธิบายประกอบด้วยชื่อหมวดหมู่\n",
    "\n",
    "*hint: F()*\n",
    "```\n",
    "ID: 1, Name: Science, Description: Courses related to natural and physical sciences.\n",
    "ID: 7, Name: Health, Description: Courses related to medicine, wellness, and public health.\n",
    "```"
   ]
  },
  {
   "cell_type": "code",
   "execution_count": 6,
   "id": "b7f000ec",
   "metadata": {},
   "outputs": [
    {
     "name": "stdout",
     "output_type": "stream",
     "text": [
      "ID: 1, Name: Science, Description: Courses related to natural and physical sciences.\n",
      "ID: 7, Name: Health, Description: Courses related to medicine, wellness, and public health.\n"
     ]
    }
   ],
   "source": [
    "# code\n",
    "allcat = CourseCategory.objects.filter(description__icontains = F(\"name\"))\n",
    "for i in allcat:\n",
    "    print(f\"ID: {i.id}, Name: {i.name}, Description: {i.description}\")"
   ]
  },
  {
   "cell_type": "markdown",
   "id": "37d2d15f",
   "metadata": {},
   "source": [
    "2. แสดงหน่วยกิตของทุกวิชา ที่เอาไปคูณ 2 (ต้องใช้ annotate())\n",
    "```\n",
    "ID: 1, Title: Introduction to Physics, Credits: 8\n",
    "ID: 2, Title: Calculus I, Credits: 8\n",
    "ID: 3, Title: World History: Ancient Civilizations, Credits: 6\n",
    "ID: 4, Title: Python Programming Fundamentals, Credits: 6\n",
    "ID: 6, Title: Principles of Macroeconomics, Credits: 6\n",
    "ID: 7, Title: Advanced Chemistry, Credits: 8\n",
    "ID: 8, Title: Linear Algebra, Credits: 8\n",
    "ID: 9, Title: Literary Analysis, Credits: 6\n",
    "ID: 10, Title: Web Development with Django, Credits: 8\n",
    "ID: 11, Title: Digital Photography, Credits: 6\n",
    "ID: 13, Title: Human Anatomy, Credits: 8\n",
    "ID: 14, Title: Data Structures and Algorithms, Credits: 8\n",
    "ID: 15, Title: Introduction to Philosophy, Credits: 6\n",
    "ID: 12, Title: Introduction tO Marketing, Credits: 6\n",
    "ID: 5, Title: Introduction To Drawing, Credits: 4\n",
    "```"
   ]
  },
  {
   "cell_type": "code",
   "execution_count": 11,
   "id": "c622f52e",
   "metadata": {},
   "outputs": [
    {
     "name": "stdout",
     "output_type": "stream",
     "text": [
      "ID: 1, Title: Introduction to Physics, Credits: 8\n",
      "ID: 2, Title: Calculus I, Credits: 8\n",
      "ID: 3, Title: World History: Ancient Civilizations, Credits: 6\n",
      "ID: 4, Title: Python Programming Fundamentals, Credits: 6\n",
      "ID: 5, Title: Introduction To Drawing, Credits: 4\n",
      "ID: 6, Title: Principles of Macroeconomics, Credits: 6\n",
      "ID: 7, Title: Advanced Chemistry, Credits: 8\n",
      "ID: 8, Title: Linear Algebra, Credits: 8\n",
      "ID: 9, Title: Literary Analysis, Credits: 6\n",
      "ID: 10, Title: Web Development with Django, Credits: 8\n",
      "ID: 11, Title: Digital Photography, Credits: 6\n",
      "ID: 12, Title: Introduction tO Marketing, Credits: 6\n",
      "ID: 13, Title: Human Anatomy, Credits: 8\n",
      "ID: 14, Title: Data Structures and Algorithms, Credits: 8\n",
      "ID: 15, Title: Introduction to Philosophy, Credits: 6\n"
     ]
    }
   ],
   "source": [
    "# code\n",
    "allCourse = Course.objects.annotate(time2 = F(\"credits\") * 2)\n",
    "for i in allCourse:\n",
    "    print(f\"ID: {i.id}, Title: {i.title}, Credits: {i.time2}\")"
   ]
  },
  {
   "cell_type": "markdown",
   "id": "d39681cd",
   "metadata": {},
   "source": [
    "3. แสดงรายชื่ออาจารย์ (Teacher) ทุกคน พร้อมกับ \"จำนวนคอร์สที่แต่ละคนสอน\" ใน Field ที่ชื่อว่า num_courses และเรียงลำดับจำนวนจากน้อยไปมาก\n",
    "\n",
    "*hint: ใช้ Count()*\n",
    "```\n",
    "ID: 10, Name: Karen Hernandez, Number of Courses: 0\n",
    "ID: 3, Name: David Brown, Number of Courses: 0\n",
    "ID: 9, Name: Robert Martinez, Number of Courses: 1\n",
    "ID: 8, Name: Linda Rodriguez, Number of Courses: 1\n",
    "ID: 1, Name: Michael Johnson, Number of Courses: 2\n",
    "ID: 7, Name: Daniel Davis, Number of Courses: 2\n",
    "ID: 6, Name: Jessica Miller, Number of Courses: 2\n",
    "ID: 2, Name: Emily Williams, Number of Courses: 2\n",
    "ID: 4, Name: Sarah Jones, Number of Courses: 2\n",
    "ID: 5, Name: Chris Garcia, Number of Courses: 3\n",
    "```"
   ]
  },
  {
   "cell_type": "code",
   "execution_count": 17,
   "id": "aad65f8a",
   "metadata": {},
   "outputs": [
    {
     "name": "stdout",
     "output_type": "stream",
     "text": [
      "ID: 4, Name: Sarah Jones, Number of Courses: 2\n",
      "ID: 10, Name: Karen Hernandez, Number of Courses: 0\n",
      "ID: 6, Name: Jessica Miller, Number of Courses: 2\n",
      "ID: 2, Name: Emily Williams, Number of Courses: 2\n",
      "ID: 9, Name: Robert Martinez, Number of Courses: 1\n",
      "ID: 7, Name: Daniel Davis, Number of Courses: 2\n",
      "ID: 3, Name: David Brown, Number of Courses: 0\n",
      "ID: 1, Name: Michael Johnson, Number of Courses: 2\n",
      "ID: 5, Name: Chris Garcia, Number of Courses: 3\n",
      "ID: 8, Name: Linda Rodriguez, Number of Courses: 1\n"
     ]
    }
   ],
   "source": [
    "# code\n",
    "allTeacher = Teacher.objects.annotate(num_courses = Count(\"course\"))\n",
    "for i in allTeacher:\n",
    "    print(f\"ID: {i.id}, Name: {i.first_name} {i.last_name}, Number of Courses: {i.num_courses}\")"
   ]
  },
  {
   "cell_type": "markdown",
   "id": "e7d2c855",
   "metadata": {},
   "source": [
    "4. แสดงรายชื่อนักเรียน (Student) ทุกคน พร้อมกับ \"ผลรวมหน่วยกิตของคอร์สทั้งหมดที่ลงทะเบียน\" ใน Field ที่ชื่อว่า total_credits และเรียงผลรวมจากมากไปน้อย\n",
    "\n",
    "*hint: ใช้ Sum()*\n",
    "```\n",
    "ID: 1, Name: Alice Smith, Total Credits: 12\n",
    "ID: 15, Name: Oscar Anderson, Total Credits: 12\n",
    "ID: 2, Name: Bob Johnson, Total Credits: 12\n",
    "ID: 4, Name: Diana Brown, Total Credits: 11\n",
    "ID: 9, Name: Ian Rodriguez, Total Credits: 10\n",
    "ID: 3, Name: Charlie Williams, Total Credits: 9\n",
    "ID: 12, Name: Laura Lopez, Total Credits: 8\n",
    "ID: 7, Name: George Miller, Total Credits: 8\n",
    "ID: 10, Name: Jane Martinez, Total Credits: 7\n",
    "ID: 13, Name: Mason Gonzalez, Total Credits: 7\n",
    "ID: 8, Name: Hannah Davis, Total Credits: 6\n",
    "ID: 6, Name: Fiona Garcia, Total Credits: 6\n",
    "ID: 14, Name: Nora Wilson, Total Credits: 6\n",
    "ID: 5, Name: Ethan Jones, Total Credits: 5\n",
    "ID: 11, Name: Kevin Hernandez, Total Credits: 4\n",
    "```"
   ]
  },
  {
   "cell_type": "code",
   "execution_count": 41,
   "id": "2517a070",
   "metadata": {},
   "outputs": [
    {
     "name": "stdout",
     "output_type": "stream",
     "text": [
      "ID: 1, Name: Alice Smith, Total Credits: 12\n",
      "ID: 15, Name: Oscar Anderson, Total Credits: 12\n",
      "ID: 2, Name: Bob Johnson, Total Credits: 12\n",
      "ID: 4, Name: Diana Brown, Total Credits: 11\n",
      "ID: 9, Name: Ian Rodriguez, Total Credits: 10\n",
      "ID: 3, Name: Charlie Williams, Total Credits: 9\n",
      "ID: 12, Name: Laura Lopez, Total Credits: 8\n",
      "ID: 7, Name: George Miller, Total Credits: 8\n",
      "ID: 10, Name: Jane Martinez, Total Credits: 7\n",
      "ID: 13, Name: Mason Gonzalez, Total Credits: 7\n",
      "ID: 8, Name: Hannah Davis, Total Credits: 6\n",
      "ID: 6, Name: Fiona Garcia, Total Credits: 6\n",
      "ID: 14, Name: Nora Wilson, Total Credits: 6\n",
      "ID: 5, Name: Ethan Jones, Total Credits: 5\n",
      "ID: 11, Name: Kevin Hernandez, Total Credits: 4\n"
     ]
    }
   ],
   "source": [
    "# code\n",
    "allStudent = Student.objects.annotate(total_credits = Sum(\"courses__credits\")).order_by(\"-total_credits\")\n",
    "for i in allStudent:\n",
    "    print(f\"ID: {i.id}, Name: {i.first_name} {i.last_name}, Total Credits: {i.total_credits}\")\n"
   ]
  },
  {
   "cell_type": "markdown",
   "id": "a61e70c6",
   "metadata": {},
   "source": [
    "5. แสดงข้อมูลนักเรียนทุกคน โดยให้มี Field ใหม่ชื่อ full_name ซึ่งเกิดจากการนำ first_name มาต่อกับ last_name โดยคั่นด้วยเว้นวรรค และแสดงผลตามตัวอย่าง\n",
    "\n",
    "*หมายเหตุ: จะต้องใช้ annotate() และ values() เท่านั้น ห้าม loop และสร้าง dict เอง*\n",
    "\n",
    "```\n",
    "[\n",
    "    {\n",
    "        \"id\": 1,\n",
    "        \"full_name\": \"Alice Smith\"\n",
    "    },\n",
    "    {\n",
    "        \"id\": 2,\n",
    "        \"full_name\": \"Bob Johnson\"\n",
    "    },\n",
    "    {\n",
    "        \"id\": 3,\n",
    "        \"full_name\": \"Charlie Williams\"\n",
    "    },\n",
    "    {\n",
    "        \"id\": 4,\n",
    "        \"full_name\": \"Diana Brown\"\n",
    "    },\n",
    "    {\n",
    "        \"id\": 5,\n",
    "        \"full_name\": \"Ethan Jones\"\n",
    "    },\n",
    "    {\n",
    "        \"id\": 6,\n",
    "        \"full_name\": \"Fiona Garcia\"\n",
    "    },\n",
    "    {\n",
    "        \"id\": 7,\n",
    "        \"full_name\": \"George Miller\"\n",
    "    },\n",
    "    {\n",
    "        \"id\": 8,\n",
    "        \"full_name\": \"Hannah Davis\"\n",
    "    },\n",
    "    {\n",
    "        \"id\": 9,\n",
    "        \"full_name\": \"Ian Rodriguez\"\n",
    "    },\n",
    "    {\n",
    "        \"id\": 10,\n",
    "        \"full_name\": \"Jane Martinez\"\n",
    "    },\n",
    "    {\n",
    "        \"id\": 11,\n",
    "        \"full_name\": \"Kevin Hernandez\"\n",
    "    },\n",
    "    {\n",
    "        \"id\": 12,\n",
    "        \"full_name\": \"Laura Lopez\"\n",
    "    },\n",
    "    {\n",
    "        \"id\": 13,\n",
    "        \"full_name\": \"Mason Gonzalez\"\n",
    "    },\n",
    "    {\n",
    "        \"id\": 14,\n",
    "        \"full_name\": \"Nora Wilson\"\n",
    "    },\n",
    "    {\n",
    "        \"id\": 15,\n",
    "        \"full_name\": \"Oscar Anderson\"\n",
    "    }\n",
    "]\n",
    "```"
   ]
  },
  {
   "cell_type": "code",
   "execution_count": 55,
   "id": "b6458ea0",
   "metadata": {},
   "outputs": [
    {
     "name": "stdout",
     "output_type": "stream",
     "text": [
      "[\n",
      "    {\n",
      "        \"id\": 1,\n",
      "        \"full_name\": \"Alice Smith\"\n",
      "    },\n",
      "    {\n",
      "        \"id\": 2,\n",
      "        \"full_name\": \"Bob Johnson\"\n",
      "    },\n",
      "    {\n",
      "        \"id\": 3,\n",
      "        \"full_name\": \"Charlie Williams\"\n",
      "    },\n",
      "    {\n",
      "        \"id\": 4,\n",
      "        \"full_name\": \"Diana Brown\"\n",
      "    },\n",
      "    {\n",
      "        \"id\": 5,\n",
      "        \"full_name\": \"Ethan Jones\"\n",
      "    },\n",
      "    {\n",
      "        \"id\": 6,\n",
      "        \"full_name\": \"Fiona Garcia\"\n",
      "    },\n",
      "    {\n",
      "        \"id\": 7,\n",
      "        \"full_name\": \"George Miller\"\n",
      "    },\n",
      "    {\n",
      "        \"id\": 8,\n",
      "        \"full_name\": \"Hannah Davis\"\n",
      "    },\n",
      "    {\n",
      "        \"id\": 9,\n",
      "        \"full_name\": \"Ian Rodriguez\"\n",
      "    },\n",
      "    {\n",
      "        \"id\": 10,\n",
      "        \"full_name\": \"Jane Martinez\"\n",
      "    },\n",
      "    {\n",
      "        \"id\": 11,\n",
      "        \"full_name\": \"Kevin Hernandez\"\n",
      "    },\n",
      "    {\n",
      "        \"id\": 12,\n",
      "        \"full_name\": \"Laura Lopez\"\n",
      "    },\n",
      "    {\n",
      "        \"id\": 13,\n",
      "        \"full_name\": \"Mason Gonzalez\"\n",
      "    },\n",
      "    {\n",
      "        \"id\": 14,\n",
      "        \"full_name\": \"Nora Wilson\"\n",
      "    },\n",
      "    {\n",
      "        \"id\": 15,\n",
      "        \"full_name\": \"Oscar Anderson\"\n",
      "    }\n",
      "]\n"
     ]
    }
   ],
   "source": [
    "# code\n",
    "allStudent = Student.objects.annotate(full_name = Concat('first_name', Value(' '), 'last_name')).values(\"id\", \"full_name\")\n",
    "print(json.dumps(list(allStudent), indent=4))"
   ]
  },
  {
   "cell_type": "markdown",
   "id": "b898e306",
   "metadata": {},
   "source": [
    "6. แสดงข้อมูลคอร์สทั้งหมด โดยให้มี Field เพิ่ม 2 field คือ `title_upper` (ชื่อคอร์สตัวพิมพ์ใหญ่ทั้งหมด) และ `title_lower` (ชื่อคอร์สตัวพิมพ์เล็กทั้งหมด)\n",
    "\n",
    "*hint: ใช้ Upper, Lower*\n",
    "```\n",
    "ID: 1, Title: Introduction to Physics, Title Upper: INTRODUCTION TO PHYSICS, Title Lower: introduction to physics\n",
    "ID: 2, Title: Calculus I, Title Upper: CALCULUS I, Title Lower: calculus i\n",
    "ID: 3, Title: World History: Ancient Civilizations, Title Upper: WORLD HISTORY: ANCIENT CIVILIZATIONS, Title Lower: world history: ancient civilizations\n",
    "ID: 4, Title: Python Programming Fundamentals, Title Upper: PYTHON PROGRAMMING FUNDAMENTALS, Title Lower: python programming fundamentals\n",
    "ID: 6, Title: Principles of Macroeconomics, Title Upper: PRINCIPLES OF MACROECONOMICS, Title Lower: principles of macroeconomics\n",
    "ID: 7, Title: Advanced Chemistry, Title Upper: ADVANCED CHEMISTRY, Title Lower: advanced chemistry\n",
    "ID: 8, Title: Linear Algebra, Title Upper: LINEAR ALGEBRA, Title Lower: linear algebra\n",
    "ID: 9, Title: Literary Analysis, Title Upper: LITERARY ANALYSIS, Title Lower: literary analysis\n",
    "ID: 10, Title: Web Development with Django, Title Upper: WEB DEVELOPMENT WITH DJANGO, Title Lower: web development with django\n",
    "ID: 11, Title: Digital Photography, Title Upper: DIGITAL PHOTOGRAPHY, Title Lower: digital photography\n",
    "ID: 13, Title: Human Anatomy, Title Upper: HUMAN ANATOMY, Title Lower: human anatomy\n",
    "ID: 14, Title: Data Structures and Algorithms, Title Upper: DATA STRUCTURES AND ALGORITHMS, Title Lower: data structures and algorithms\n",
    "ID: 15, Title: Introduction to Philosophy, Title Upper: INTRODUCTION TO PHILOSOPHY, Title Lower: introduction to philosophy\n",
    "ID: 12, Title: Introduction tO Marketing, Title Upper: INTRODUCTION TO MARKETING, Title Lower: introduction to marketing\n",
    "ID: 5, Title: Introduction To Drawing, Title Upper: INTRODUCTION TO DRAWING, Title Lower: introduction to drawing\n",
    "```"
   ]
  },
  {
   "cell_type": "code",
   "execution_count": 31,
   "id": "e6b78095",
   "metadata": {},
   "outputs": [],
   "source": [
    "# code"
   ]
  },
  {
   "cell_type": "markdown",
   "id": "571720e7",
   "metadata": {},
   "source": [
    "7. หาจำนวนนักเรียนทั้งหมดในระบบ\n",
    "\n",
    "*hint: aggregate + sum*\n",
    "\n",
    "```\n",
    "{'student_count': 15}\n",
    "```"
   ]
  },
  {
   "cell_type": "code",
   "execution_count": 33,
   "id": "a997cf3c",
   "metadata": {},
   "outputs": [],
   "source": [
    "# code"
   ]
  },
  {
   "cell_type": "markdown",
   "id": "3a1660e7",
   "metadata": {},
   "source": [
    "8. หาจำนวนคอร์สทั้งหมดที่อยู่ในหมวดหมู่ 'Technology'\n",
    "```\n",
    "{'tech_courses': 5}\n",
    "```"
   ]
  },
  {
   "cell_type": "code",
   "execution_count": 34,
   "id": "1f62c295",
   "metadata": {},
   "outputs": [],
   "source": [
    "# code"
   ]
  },
  {
   "cell_type": "markdown",
   "id": "c42a00e7",
   "metadata": {},
   "source": [
    "9. หาผลรวมของหน่วยกิต (credits) ของคอร์สทั้งหมด\n",
    "```\n",
    "{'total_credits': 51}\n",
    "```"
   ]
  },
  {
   "cell_type": "code",
   "execution_count": null,
   "id": "68c1b2bd",
   "metadata": {},
   "outputs": [],
   "source": [
    "# code"
   ]
  },
  {
   "cell_type": "markdown",
   "id": "324458e5",
   "metadata": {},
   "source": [
    "10. หาค่าเฉลี่ยของหน่วยกิตของคอร์สทั้งหมด\n",
    "```\n",
    "{'total_credits': 3.4}\n",
    "```"
   ]
  },
  {
   "cell_type": "code",
   "execution_count": 36,
   "id": "c2322628",
   "metadata": {},
   "outputs": [],
   "source": [
    "# code"
   ]
  },
  {
   "cell_type": "markdown",
   "id": "fa5bef9f",
   "metadata": {},
   "source": [
    "11. หาวันที่ลงทะเบียนเรียนของนักเรียนคนแรกสุด (Min) และคนล่าสุด (Max)\n",
    "```\n",
    "{'min_date': datetime.date(2022, 1, 18),\n",
    " 'max_date': datetime.date(2024, 3, 10)}\n",
    " ```"
   ]
  },
  {
   "cell_type": "code",
   "execution_count": 38,
   "id": "aa6616b4",
   "metadata": {},
   "outputs": [
    {
     "data": {
      "text/plain": [
       "{'min_date': datetime.date(2022, 1, 18),\n",
       " 'max_date': datetime.date(2024, 3, 10)}"
      ]
     },
     "execution_count": 38,
     "metadata": {},
     "output_type": "execute_result"
    }
   ],
   "source": [
    "from school.models import Student\n",
    "from django.db.models import Min, Max\n",
    "\n",
    "students = Student.objects.aggregate(min_date=Min(\"enrollment_date\"), max_date=Max(\"enrollment_date\"))\n",
    "\n",
    "students"
   ]
  },
  {
   "cell_type": "markdown",
   "id": "dafbe969",
   "metadata": {},
   "source": [
    "12. หา \"รายชื่ออาจารย์\" ทุกคน ที่สอนคอร์สมากกว่า 1 คอร์ส\n",
    "```\n",
    "ID: 4, Name: Sarah Jones, Number of Courses: 2\n",
    "ID: 6, Name: Jessica Miller, Number of Courses: 2\n",
    "ID: 2, Name: Emily Williams, Number of Courses: 2\n",
    "ID: 7, Name: Daniel Davis, Number of Courses: 2\n",
    "ID: 1, Name: Michael Johnson, Number of Courses: 2\n",
    "ID: 5, Name: Chris Garcia, Number of Courses: 3\n",
    "```"
   ]
  },
  {
   "cell_type": "code",
   "execution_count": 40,
   "id": "e90fe1b8",
   "metadata": {},
   "outputs": [],
   "source": [
    "# code"
   ]
  },
  {
   "cell_type": "markdown",
   "id": "ec3bbf3a",
   "metadata": {},
   "source": [
    "13. หา \"รายชื่อนักเรียน\" ทุกคน ที่ลงทะเบียนเรียนรวมกันแล้วเกิน 10 หน่วยกิต\n",
    "```\n",
    "ID: 15, Name: Oscar Anderson, Total Credits: 12\n",
    "ID: 4, Name: Diana Brown, Total Credits: 11\n",
    "ID: 2, Name: Bob Johnson, Total Credits: 12\n",
    "ID: 1, Name: Alice Smith, Total Credits: 12\n",
    "```"
   ]
  },
  {
   "cell_type": "code",
   "execution_count": 42,
   "id": "73201e92",
   "metadata": {},
   "outputs": [],
   "source": [
    "# code"
   ]
  },
  {
   "cell_type": "markdown",
   "id": "037606bb",
   "metadata": {},
   "source": [
    "14. (Hard) หาจำนวนนักเรียนที่ลงทะเบียนวิชาในหมวดหมู่ \"Technology\" ในปี 2023\n",
    "\n",
    "hint:\n",
    "- กรอง Course ด้วย categories__name='Technology'\n",
    "- annotate ด้วย Count('student') แต่ใส่ filter ซ้อนเข้าไปใน Count อีกที เพื่อให้นับเฉพาะนักเรียนที่มี enrollment_date__year=2023\n",
    "\n",
    "\n",
    "```\n",
    "ID: 4, Title: Python Programming Fundamentals, Number of Students: 3\n",
    "ID: 10, Title: Web Development with Django, Number of Students: 2\n",
    "ID: 14, Title: Data Structures and Algorithms, Number of Students: 2\n",
    "ID: 11, Title: Digital Photography, Number of Students: 1\n",
    "ID: 1, Title: Introduction to Physics, Number of Students: 2\n",
    "```"
   ]
  },
  {
   "cell_type": "code",
   "execution_count": 49,
   "id": "3d08d770",
   "metadata": {},
   "outputs": [],
   "source": [
    "# code"
   ]
  },
  {
   "cell_type": "markdown",
   "id": "d046bbed",
   "metadata": {},
   "source": [
    "### SubQuery"
   ]
  },
  {
   "cell_type": "markdown",
   "id": "e358f292",
   "metadata": {},
   "source": [
    "15. แสดงรายชื่อนักเรียนทุกคน พร้อมกับ \"ชื่อคอร์สที่มีหน่วยกิต (credits) สูงที่สุด\" ที่นักเรียนคนนั้นได้ลงทะเบียนเรียน ใน Field ที่ชื่อว่า highest_credit_course โดยแสดงเฉพาะคนที่มีวิชาที่ลงเรียนมากสุดคือ \"Web Development with Django\"\n",
    "```\n",
    "ID: 4, Name: Diana Brown, Course: Web Development with Django\n",
    "ID: 9, Name: Ian Rodriguez, Course: Web Development with Django\n",
    "ID: 10, Name: Jane Martinez, Course: Web Development with Django\n",
    "ID: 13, Name: Mason Gonzalez, Course: Web Development with Django\n",
    "```"
   ]
  },
  {
   "cell_type": "code",
   "execution_count": 63,
   "id": "6d73270d",
   "metadata": {},
   "outputs": [
    {
     "name": "stdout",
     "output_type": "stream",
     "text": [
      "ID: 4, Name: Diana Brown, Course: Web Development with Django\n",
      "ID: 9, Name: Ian Rodriguez, Course: Web Development with Django\n",
      "ID: 10, Name: Jane Martinez, Course: Web Development with Django\n",
      "ID: 13, Name: Mason Gonzalez, Course: Web Development with Django\n"
     ]
    }
   ],
   "source": [
    "from school.models import Course, Student\n",
    "from django.db.models import Subquery, OuterRef\n",
    "\n",
    "students = Student.objects.annotate(\n",
    "    max_course_title=\n",
    "        Subquery(\n",
    "            Course.objects.filter(student=OuterRef(\"pk\")).order_by(\"-credits\").values(\"title\")[:1]\n",
    "    )\n",
    ").filter(max_course_title=\"Web Development with Django\")\n",
    "\n",
    "for s in students:\n",
    "    print(f\"ID: {s.id}, Name: {s.first_name} {s.last_name}, Course: {s.max_course_title}\")"
   ]
  },
  {
   "cell_type": "code",
   "execution_count": null,
   "id": "ea17823e",
   "metadata": {},
   "outputs": [],
   "source": []
  }
 ],
 "metadata": {
  "kernelspec": {
   "display_name": "Django Shell-Plus",
   "language": "python",
   "name": "django_extensions"
  },
  "language_info": {
   "codemirror_mode": {
    "name": "ipython",
    "version": 3
   },
   "file_extension": ".py",
   "mimetype": "text/x-python",
   "name": "python",
   "nbconvert_exporter": "python",
   "pygments_lexer": "ipython3",
   "version": "3.11.9"
  }
 },
 "nbformat": 4,
 "nbformat_minor": 5
}
