{
 "cells": [
  {
   "cell_type": "markdown",
   "id": "bd534c9d",
   "metadata": {},
   "source": [
    "# Mock Quiz Week6"
   ]
  },
  {
   "cell_type": "code",
   "execution_count": 23,
   "id": "2e2ccf02",
   "metadata": {},
   "outputs": [],
   "source": [
    "# import sys\n",
    "# import os\n",
    "# import django\n",
    "\n",
    "# sys.path.append('..')\n",
    "\n",
    "# os.environ.setdefault('DJANGO_SETTINGS_MODULE', 'university.settings')\n",
    "# os.environ[\"DJANGO_ALLOW_ASYNC_UNSAFE\"] = \"true\"\n",
    "\n",
    "# django.setup()\n",
    "\n",
    "# print(\"Django environment loaded successfully!\")\n",
    "\n",
    "import os\n",
    "os.environ[\"DJANGO_ALLOW_ASYNC_UNSAFE\"] = \"true\"\n",
    "\n",
    "from school.models import *\n",
    "from datetime import date, datetime\n",
    "from django.db.models import Q, F"
   ]
  },
  {
   "cell_type": "markdown",
   "id": "41cecb69",
   "metadata": {},
   "source": [
    "### Setup\n",
    "1. สร้าง virtual environment\n",
    "2. ติดตั้ง django และ psycopg2 libraries\n",
    "3. สร้างโปรเจคใหม่ใหม่ชื่อ `university`\n",
    "4. จากนั้นให้ทำการ startapp ใหม่ชื่อ `school`\n",
    "5. สร้าง database ชื่อ `school` ใน Postgres DB\n",
    "6. ทำการเพิ่ม code ด้านล่างนี้ในไฟล์ `school/models.py`\n",
    "7. เพิ่ม 'school' ใน settings.py\n",
    "8. จากนั้นทำการติดตั้งเพื่อใช้งาน jupyter notebook ตามขั้นตอนใน django_notebook.md\n",
    "9. ทำการ makemigrations และ migrate\n",
    "10. import ข้อมูลจาก school.sql ลงไปใน database\n",
    "\n",
    "```python\n",
    "# school/models.py\n",
    "from django.db import models\n",
    "\n",
    "\n",
    "class Teacher(models.Model):\n",
    "    first_name = models.CharField(max_length=100)\n",
    "    last_name = models.CharField(max_length=100)\n",
    "    email = models.EmailField(unique=True)\n",
    "\n",
    "    def __str__(self):\n",
    "        return f\"{self.first_name} {self.last_name}\"\n",
    "\n",
    "\n",
    "class CourseCategory(models.Model):\n",
    "    name = models.CharField(max_length=100, unique=True)\n",
    "    description = models.TextField(blank=True, null=True)\n",
    "\n",
    "    def __str__(self):\n",
    "        return self.name\n",
    "\n",
    "\n",
    "class Course(models.Model):\n",
    "    title = models.CharField(max_length=200)\n",
    "    description = models.TextField(blank=True, null=True)\n",
    "    credits = models.PositiveIntegerField(default=3)\n",
    "    teacher = models.ForeignKey(Teacher, on_delete=models.SET_NULL, null=True)\n",
    "    categories = models.ManyToManyField(CourseCategory, blank=True)\n",
    "\n",
    "    def __str__(self):\n",
    "        return self.title\n",
    "\n",
    "\n",
    "class Student(models.Model):\n",
    "    first_name = models.CharField(max_length=100)\n",
    "    last_name = models.CharField(max_length=100)\n",
    "    student_id = models.CharField(max_length=10, unique=True)\n",
    "    enrollment_date = models.DateField()\n",
    "    courses = models.ManyToManyField(Course, blank=True)\n",
    "\n",
    "    def __str__(self):\n",
    "        return f\"{self.first_name} {self.last_name}\"\n",
    "\n",
    "\n",
    "class StudentProfile(models.Model):\n",
    "    student = models.OneToOneField(Student, on_delete=models.CASCADE, primary_key=True)\n",
    "    bio = models.TextField(blank=True, null=True)\n",
    "    profile_picture_url = models.URLField(blank=True, null=True)\n",
    "\n",
    "    def __str__(self):\n",
    "        return f\"Profile of {self.student.first_name}\"\n",
    "```\n",
    "***"
   ]
  },
  {
   "cell_type": "markdown",
   "id": "09bc4e15",
   "metadata": {},
   "source": [
    "### Part 1: Query"
   ]
  },
  {
   "cell_type": "markdown",
   "id": "6dacbf13",
   "metadata": {},
   "source": [
    "1. ให้ Query แสดงประเภทของคอร์ส (`CourseCategory`) ทั้งหมด\n",
    "\n",
    "```\n",
    "ID: 1, Name: Science, Description: Courses related to natural and physical sciences.\n",
    "ID: 2, Name: Mathematics, Description: Courses focused on numbers, quantity, and space.\n",
    "ID: 3, Name: Humanities, Description: Courses studying human culture, including literature, history, and philosophy.\n",
    "ID: 4, Name: Technology, Description: Courses involving the application of scientific knowledge for practical purposes.\n",
    "ID: 5, Name: Arts, Description: Courses related to creative expression and aesthetics.\n",
    "ID: 6, Name: Business, Description: Courses focused on commerce, finance, and management.\n",
    "ID: 7, Name: Health, Description: Courses related to medicine, wellness, and public health.\n",
    "```"
   ]
  },
  {
   "cell_type": "code",
   "execution_count": 15,
   "id": "a141d0ad",
   "metadata": {},
   "outputs": [
    {
     "name": "stdout",
     "output_type": "stream",
     "text": [
      "ID: 1, Name: Science, Description: Courses related to natural and physical sciences. \n",
      "ID: 2, Name: Mathematics, Description: Courses focused on numbers, quantity, and space. \n",
      "ID: 3, Name: Humanities, Description: Courses studying human culture, including literature, history, and philosophy. \n",
      "ID: 4, Name: Technology, Description: Courses involving the application of scientific knowledge for practical purposes. \n",
      "ID: 5, Name: Arts, Description: Courses related to creative expression and aesthetics. \n",
      "ID: 6, Name: Business, Description: Courses focused on commerce, finance, and management. \n",
      "ID: 7, Name: Health, Description: Courses related to medicine, wellness, and public health. \n"
     ]
    }
   ],
   "source": [
    "# code\n",
    "allcat = CourseCategory.objects.all()\n",
    "for i in allcat:\n",
    "    print(f\"ID: {i.id}, Name: {i.name}, Description: {i.description} \")"
   ]
  },
  {
   "cell_type": "markdown",
   "id": "7aff4e09",
   "metadata": {},
   "source": [
    "2. ให้แสดงข้อมูลของคอร์สที่ชื่อ \"Calculus I\" (ห้ามดึงโดยการใช้ ID)\n",
    "```\n",
    "ID: 2, Title: Calculus I, Description: An introduction to differential calculus., Credits: 4\n",
    "```"
   ]
  },
  {
   "cell_type": "code",
   "execution_count": 22,
   "id": "7097a3b3",
   "metadata": {},
   "outputs": [
    {
     "name": "stdout",
     "output_type": "stream",
     "text": [
      "ID: 2, TItle: Calculus I, Description: An introduction to differential calculus., Credits: 4\n"
     ]
    }
   ],
   "source": [
    "# code\n",
    "course = Course.objects.get(title = \"Calculus I\")\n",
    "print(f\"ID: {course.id}, TItle: {course.title}, Description: {course.description}, Credits: {course.credits}\")"
   ]
  },
  {
   "cell_type": "markdown",
   "id": "3a348b28",
   "metadata": {},
   "source": [
    "3. ให้แสดงรายชื่อนักเรียนที่มีวันลงทะเบียน (`enrollment_date`) เป็นวันที่ 1 กันยายน 2023 (ต้องมีการใช้ date object)\n",
    "```\n",
    "ID: 1, Name: Alice Smith, Enrollment Date: 2023-09-01\n",
    "ID: 2, Name: Bob Johnson, Enrollment Date: 2023-09-01\n",
    "ID: 14, Name: Nora Wilson, Enrollment Date: 2023-09-01\n",
    "```"
   ]
  },
  {
   "cell_type": "code",
   "execution_count": 26,
   "id": "46cf57b9",
   "metadata": {},
   "outputs": [
    {
     "name": "stdout",
     "output_type": "stream",
     "text": [
      "ID: 1, Name: Alice Smith, Enrollment Date: 2023-09-01\n",
      "ID: 2, Name: Bob Johnson, Enrollment Date: 2023-09-01\n",
      "ID: 14, Name: Nora Wilson, Enrollment Date: 2023-09-01\n"
     ]
    }
   ],
   "source": [
    "# code\n",
    "thisdate = date(2023,9,1)\n",
    "allStudent = Student.objects.filter(enrollment_date = thisdate)\n",
    "\n",
    "for stu in allStudent:\n",
    "    print(f\"ID: {stu.id}, Name: {stu.first_name} {stu.last_name}, Enrollment Date: {stu.enrollment_date}\")"
   ]
  },
  {
   "cell_type": "markdown",
   "id": "7c0f78b0",
   "metadata": {},
   "source": [
    "4. แสดงชื่ออาจารย์ที่สอนวิชา \"Introduction to Physics\" (Query ได้แค่ครั้งเดียว)\n",
    "```\n",
    "ID: 1, Title: Introduction to Physics, Teacher: Michael Johnson\n",
    "```"
   ]
  },
  {
   "cell_type": "code",
   "execution_count": 51,
   "id": "06a72687",
   "metadata": {},
   "outputs": [
    {
     "name": "stdout",
     "output_type": "stream",
     "text": [
      "ID: 1, Title: Introduction to Physics, Teacher: Michael Johnson\n"
     ]
    }
   ],
   "source": [
    "# code\n",
    "course = Course.objects.get(title = \"Introduction to Physics\")\n",
    "print(f\"ID: {course.id}, Title: {course.title}, Teacher: {course.teacher.first_name} {course.teacher.last_name}\")\n"
   ]
  },
  {
   "cell_type": "markdown",
   "id": "dc5faa77",
   "metadata": {},
   "source": [
    "6. แสดงชื่อวิชาทั้งหมดที่อาจารย์ \"Emily Williams\" เป็นคนสอน\n",
    "```\n",
    "ID: 2, Title: Calculus I\n",
    "ID: 8, Title: Linear Algebra\n",
    "```"
   ]
  },
  {
   "cell_type": "code",
   "execution_count": 54,
   "id": "9c123049",
   "metadata": {},
   "outputs": [
    {
     "name": "stdout",
     "output_type": "stream",
     "text": [
      "ID: 2, Title: Calculus I\n",
      "ID: 8, Title: Linear Algebra\n"
     ]
    }
   ],
   "source": [
    "# code\n",
    "allCourse = Course.objects.filter(teacher__first_name = \"Emily\", teacher__last_name = \"Williams\")\n",
    "for i in allCourse:\n",
    "    print(f\"ID: {i.id}, Title: {i.title}\")"
   ]
  },
  {
   "cell_type": "markdown",
   "id": "e030e16d",
   "metadata": {},
   "source": [
    "7. แสดงชื่อวิชาทั้งหมดที่อยู่ในหมวดหมู่ \"Technology\" (ต้องมีการใช้ _set)\n",
    "```\n",
    "ID: 1, Title: Introduction to Physics\n",
    "ID: 4, Title: Python Programming Fundamentals\n",
    "ID: 10, Title: Web Development with Django\n",
    "ID: 11, Title: Digital Photography\n",
    "ID: 14, Title: Data Structures and Algorithms\n",
    "```"
   ]
  },
  {
   "cell_type": "code",
   "execution_count": 59,
   "id": "b6b73bf9",
   "metadata": {},
   "outputs": [
    {
     "name": "stdout",
     "output_type": "stream",
     "text": [
      "ID: 1, Title: Introduction to Physics\n",
      "ID: 4, Title: Python Programming Fundamentals\n",
      "ID: 10, Title: Web Development with Django\n",
      "ID: 11, Title: Digital Photography\n",
      "ID: 14, Title: Data Structures and Algorithms\n"
     ]
    }
   ],
   "source": [
    "# code\n",
    "cat = CourseCategory.objects.get(name = \"Technology\")\n",
    "allCourse = cat.course_set.all()\n",
    "for i in allCourse:\n",
    "    print(f\"ID: {i.id}, Title: {i.title}\")"
   ]
  },
  {
   "cell_type": "markdown",
   "id": "40a1e72d",
   "metadata": {},
   "source": [
    "8. แสดงชื่อคอร์สทั้งหมดที่ชื่อคอร์สมีคำว่า \"to\" (To to tO นับหมด) และเรียง ID จากน้อยไปมาก\n",
    "```\n",
    "ID: 1, Title: Introduction to Physics\n",
    "ID: 3, Title: World History: Ancient Civilizations\n",
    "ID: 5, Title: Introduction To Drawing\n",
    "ID: 11, Title: Digital Photography\n",
    "ID: 12, Title: Introduction tO Marketing\n",
    "ID: 13, Title: Human Anatomy\n",
    "ID: 15, Title: Introduction to Philosophy\n",
    "```"
   ]
  },
  {
   "cell_type": "code",
   "execution_count": 62,
   "id": "8d54f22d",
   "metadata": {},
   "outputs": [
    {
     "name": "stdout",
     "output_type": "stream",
     "text": [
      "ID: 1, TItle: Introduction to Physics\n",
      "ID: 3, TItle: World History: Ancient Civilizations\n",
      "ID: 5, TItle: Introduction To Drawing\n",
      "ID: 11, TItle: Digital Photography\n",
      "ID: 12, TItle: Introduction tO Marketing\n",
      "ID: 13, TItle: Human Anatomy\n",
      "ID: 15, TItle: Introduction to Philosophy\n"
     ]
    }
   ],
   "source": [
    "# code\n",
    "allCourse = Course.objects.filter(title__icontains = \"to\")\n",
    "for i in allCourse:\n",
    "    print(f\"ID: {i.id}, TItle: {i.title}\")"
   ]
  },
  {
   "cell_type": "markdown",
   "id": "6f6d5745",
   "metadata": {},
   "source": [
    "9. แสดงชื่อนักเรียนทั้งหมดที่ลงทะเบียนในวันที่ 5 และเรียงชื่อจาก z-a\n",
    "```\n",
    "ID: 8, Name: Hannah Davis, Enrollment Date: 2022-09-05\n",
    "ID: 7, Name: George Miller, Enrollment Date: 2023-09-05\n",
    "```"
   ]
  },
  {
   "cell_type": "code",
   "execution_count": 66,
   "id": "4821459e",
   "metadata": {},
   "outputs": [
    {
     "name": "stdout",
     "output_type": "stream",
     "text": [
      "ID: 8, Name: Hannah Davis, Enrollment Date: 2022-09-05\n",
      "ID: 7, Name: George Miller, Enrollment Date: 2023-09-05\n"
     ]
    }
   ],
   "source": [
    "# code\n",
    "allStudent = Student.objects.filter(enrollment_date__day = 5).order_by(\"-first_name\")\n",
    "for i in allStudent:\n",
    "    print(f\"ID: {i.id}, Name: {i.first_name} {i.last_name}, Enrollment Date: {i.enrollment_date}\")"
   ]
  },
  {
   "cell_type": "markdown",
   "id": "97b9df1e",
   "metadata": {},
   "source": [
    "10. แสดงชื่อวิชาทั้งหมดที่มีหน่วยกิตมากกว่า 3\n",
    "```\n",
    "ID: 1, Title: Introduction to Physics, Credits: 4\n",
    "ID: 2, Title: Calculus I, Credits: 4\n",
    "ID: 7, Title: Advanced Chemistry, Credits: 4\n",
    "ID: 8, Title: Linear Algebra, Credits: 4\n",
    "ID: 10, Title: Web Development with Django, Credits: 4\n",
    "ID: 13, Title: Human Anatomy, Credits: 4\n",
    "ID: 14, Title: Data Structures and Algorithms, Credits: 4\n",
    "```"
   ]
  },
  {
   "cell_type": "code",
   "execution_count": 70,
   "id": "c563f6a0",
   "metadata": {},
   "outputs": [
    {
     "name": "stdout",
     "output_type": "stream",
     "text": [
      "ID: 1, Title: Introduction to Physics, Credits: 4\n",
      "ID: 2, Title: Calculus I, Credits: 4\n",
      "ID: 7, Title: Advanced Chemistry, Credits: 4\n",
      "ID: 8, Title: Linear Algebra, Credits: 4\n",
      "ID: 10, Title: Web Development with Django, Credits: 4\n",
      "ID: 13, Title: Human Anatomy, Credits: 4\n",
      "ID: 14, Title: Data Structures and Algorithms, Credits: 4\n"
     ]
    }
   ],
   "source": [
    "# code\n",
    "allCourse = Course.objects.filter(credits__gt = 3)\n",
    "\n",
    "for i in allCourse:\n",
    "    print(f\"ID: {i.id}, Title: {i.title}, Credits: {i.credits}\")"
   ]
  },
  {
   "cell_type": "markdown",
   "id": "78a97fc5",
   "metadata": {},
   "source": [
    "11. แสดงชื่อวิชาทั้งหมดที่มีหน่วยกิตอยู่ระหว่าง 2-3 รวมถึงแสดงชื่ออาจารย์แต่ละวิชา\n",
    "```\n",
    "ID: 3, Title: World History: Ancient Civilizations, Credits: 3, Teacher: Sarah Jones\n",
    "ID: 4, Title: Python Programming Fundamentals, Credits: 3, Teacher: Chris Garcia\n",
    "ID: 6, Title: Principles of Macroeconomics, Credits: 3, Teacher: Daniel Davis\n",
    "ID: 9, Title: Literary Analysis, Credits: 3, Teacher: Sarah Jones\n",
    "ID: 11, Title: Digital Photography, Credits: 3, Teacher: Jessica Miller\n",
    "ID: 15, Title: Introduction to Philosophy, Credits: 3, Teacher: Robert Martinez\n",
    "ID: 12, Title: Introduction tO Marketing, Credits: 3, Teacher: Daniel Davis\n",
    "ID: 5, Title: Introduction To Drawing, Credits: 2, Teacher: Jessica Miller\n",
    "```"
   ]
  },
  {
   "cell_type": "code",
   "execution_count": 78,
   "id": "4513a56c",
   "metadata": {},
   "outputs": [
    {
     "name": "stdout",
     "output_type": "stream",
     "text": [
      "ID: 3, Title: World History: Ancient Civilizations, Credits: 3, Teacher: Sarah Jones\n",
      "ID: 4, Title: Python Programming Fundamentals, Credits: 3, Teacher: Chris Garcia\n",
      "ID: 5, Title: Introduction To Drawing, Credits: 2, Teacher: Jessica Miller\n",
      "ID: 6, Title: Principles of Macroeconomics, Credits: 3, Teacher: Daniel Davis\n",
      "ID: 9, Title: Literary Analysis, Credits: 3, Teacher: Sarah Jones\n",
      "ID: 11, Title: Digital Photography, Credits: 3, Teacher: Jessica Miller\n",
      "ID: 12, Title: Introduction tO Marketing, Credits: 3, Teacher: Daniel Davis\n",
      "ID: 15, Title: Introduction to Philosophy, Credits: 3, Teacher: Robert Martinez\n"
     ]
    }
   ],
   "source": [
    "# code\n",
    "allCourse = Course.objects.filter(credits__range = (2,3))\n",
    "for i in allCourse:\n",
    "    print(f\"ID: {i.id}, Title: {i.title}, Credits: {i.credits}, Teacher: {i.teacher.first_name} {i.teacher.last_name}\")"
   ]
  },
  {
   "cell_type": "markdown",
   "id": "a0f9c8ef",
   "metadata": {},
   "source": [
    "12. แสดงชื่อนักเรียนที่ลงทะเบียนระหว่างเดือนมกราคม ถึง เดือนมีนาคม และเรียงลำดับปีจากน้อยไปมาก\n",
    "```\n",
    "ID: 11, Name: Kevin Hernandez, Enrollment Date: 2022-01-18\n",
    "ID: 10, Name: Jane Martinez, Enrollment Date: 2023-01-20\n",
    "ID: 6, Name: Fiona Garcia, Enrollment Date: 2024-01-15\n",
    "ID: 9, Name: Ian Rodriguez, Enrollment Date: 2024-02-01\n",
    "ID: 13, Name: Mason Gonzalez, Enrollment Date: 2024-03-10\n",
    "```"
   ]
  },
  {
   "cell_type": "code",
   "execution_count": 83,
   "id": "e048fbcd",
   "metadata": {},
   "outputs": [
    {
     "name": "stdout",
     "output_type": "stream",
     "text": [
      "ID: 11, Name: Kevin Hernandez, Enrollment_date: 2022-01-18\n",
      "ID: 10, Name: Jane Martinez, Enrollment_date: 2023-01-20\n",
      "ID: 6, Name: Fiona Garcia, Enrollment_date: 2024-01-15\n",
      "ID: 9, Name: Ian Rodriguez, Enrollment_date: 2024-02-01\n",
      "ID: 13, Name: Mason Gonzalez, Enrollment_date: 2024-03-10\n"
     ]
    }
   ],
   "source": [
    "# code\n",
    "allStudent = Student.objects.filter(enrollment_date__month__gte = 1, enrollment_date__month__lte = 3).order_by(\"enrollment_date__year\")\n",
    "\n",
    "for i in allStudent:\n",
    "    print(f\"ID: {i.id}, Name: {i.first_name} {i.last_name}, Enrollment_date: {i.enrollment_date}\")"
   ]
  },
  {
   "cell_type": "markdown",
   "id": "290c2a82",
   "metadata": {},
   "source": [
    "13. แสดงชื่อนักเรียนที่ลงทะเบียนวิชา \"Introduction to Physics\" และมีวันลงทะเบียนในเดือนกันยายน\n",
    "```\n",
    "ID: 1, Name: Alice Smith, Enrollment Date: 2023-09-01\n",
    "ID: 7, Name: George Miller, Enrollment Date: 2023-09-05\n",
    "```"
   ]
  },
  {
   "cell_type": "code",
   "execution_count": 92,
   "id": "443a6e0e",
   "metadata": {},
   "outputs": [
    {
     "name": "stdout",
     "output_type": "stream",
     "text": [
      "ID: 1, Name: Alice Smith, Enrollment Date: 2023-09-01\n",
      "ID: 7, Name: George Miller, Enrollment Date: 2023-09-05\n"
     ]
    }
   ],
   "source": [
    "# code\n",
    "physics = Course.objects.get(title = \"Introduction to Physics\")\n",
    "\n",
    "for i in physics.student_set.all():\n",
    "    print(f\"ID: {i.id}, Name: {i.first_name} {i.last_name}, Enrollment Date: {i.enrollment_date}\")"
   ]
  },
  {
   "cell_type": "markdown",
   "id": "0c88a901",
   "metadata": {},
   "source": [
    "14. ค้นหาชื่อคอร์สที่ขึ้นต้นด้วย \"Introduction\"\n",
    "```\n",
    "ID: 1, Title: Introduction to Physics\n",
    "ID: 15, Title: Introduction to Philosophy\n",
    "ID: 12, Title: Introduction tO Marketing\n",
    "ID: 5, Title: Introduction To Drawing\n",
    "```"
   ]
  },
  {
   "cell_type": "code",
   "execution_count": 99,
   "id": "d76e2374",
   "metadata": {},
   "outputs": [
    {
     "name": "stdout",
     "output_type": "stream",
     "text": [
      "ID: 1, Title: Introduction to Physics\n",
      "ID: 5, Title: Introduction To Drawing\n",
      "ID: 12, Title: Introduction tO Marketing\n",
      "ID: 15, Title: Introduction to Philosophy\n"
     ]
    }
   ],
   "source": [
    "# code\n",
    "allCourse = Course.objects.filter(title__startswith = \"Introduction\")\n",
    "for i in allCourse:\n",
    "    print(f\"ID: {i.id}, Title: {i.title}\")"
   ]
  },
  {
   "cell_type": "markdown",
   "id": "b7f0237e",
   "metadata": {},
   "source": [
    "15. ค้นหานักเรียนที่ชื่อขึ้นต้นด้วยตัวอักษร \"A\" หรือ \"D\"\n",
    "```\n",
    "ID: 1, Name: Alice Smith\n",
    "ID: 4, Name: Diana Brown\n",
    "```"
   ]
  },
  {
   "cell_type": "code",
   "execution_count": 102,
   "id": "18b0a38c",
   "metadata": {},
   "outputs": [
    {
     "name": "stdout",
     "output_type": "stream",
     "text": [
      "ID: 1, Name: Alice Smith\n",
      "ID: 4, Name: Diana Brown\n"
     ]
    }
   ],
   "source": [
    "# code\n",
    "allStudent = Student.objects.filter(Q(first_name__startswith = \"A\") | Q(first_name__startswith = \"D\"))\n",
    "for i in allStudent:\n",
    "    print(f\"ID: {i.id}, Name: {i.first_name} {i.last_name}\")"
   ]
  },
  {
   "cell_type": "markdown",
   "id": "dd5b736b",
   "metadata": {},
   "source": [
    "16. ค้นหาวิชาที่มีอาจารย์ \"Michael\" หรือ \"Daniel\" เป็นคนสอน (query ได้เพียงครั้งเดียว)\n",
    "```\n",
    "ID: 1, Title: Introduction to Physics, Teacher: Michael Johnson\n",
    "ID: 6, Title: Principles of Macroeconomics, Teacher: Daniel Davis\n",
    "ID: 7, Title: Advanced Chemistry, Teacher: Michael Johnson\n",
    "ID: 12, Title: Introduction tO Marketing, Teacher: Daniel Davis\n",
    "```"
   ]
  },
  {
   "cell_type": "code",
   "execution_count": 107,
   "id": "563f2c60",
   "metadata": {},
   "outputs": [
    {
     "name": "stdout",
     "output_type": "stream",
     "text": [
      "ID: 1, Title: Introduction to Physics, Teacher: Michael Johnson\n",
      "ID: 6, Title: Principles of Macroeconomics, Teacher: Daniel Davis\n",
      "ID: 7, Title: Advanced Chemistry, Teacher: Michael Johnson\n",
      "ID: 12, Title: Introduction tO Marketing, Teacher: Daniel Davis\n"
     ]
    }
   ],
   "source": [
    "# code\n",
    "allCourse = Course.objects.filter(Q(teacher__first_name = \"Michael\") | Q(teacher__first_name = \"Daniel\"))\n",
    "for i in allCourse:\n",
    "    print(f\"ID: {i.id}, Title: {i.title}, Teacher: {i.teacher.first_name} {i.teacher.last_name}\")"
   ]
  },
  {
   "cell_type": "markdown",
   "id": "eb59fa08",
   "metadata": {},
   "source": [
    "17. ค้นหาวิชาที่มีอาจารย์ \"Michael\" เป็นคนสอน และวิชานั้น ๆ ขึ้นต้นด้วย \"Introduction\" หรือลงท้ายด้วย \"Chemistry\" (query ได้เพียงครั้งเดียว)\n",
    "```\n",
    "ID: 1, Title: Introduction to Physics, Teacher: Michael Johnson\n",
    "ID: 7, Title: Advanced Chemistry, Teacher: Michael Johnson\n",
    "```"
   ]
  },
  {
   "cell_type": "code",
   "execution_count": 118,
   "id": "9558b406",
   "metadata": {},
   "outputs": [
    {
     "name": "stdout",
     "output_type": "stream",
     "text": [
      "ID: 1, Title: Introduction to Physics, Teacher: Michael Johnson\n",
      "ID: 7, Title: Advanced Chemistry, Teacher: Michael Johnson\n"
     ]
    }
   ],
   "source": [
    "# code\n",
    "allCourse = Course.objects.filter(Q(title__startswith = \"Introduction\") | Q(title__endswith = \"Chemistry\"), teacher__first_name = \"Michael\")\n",
    "for i in allCourse:\n",
    "    print(f\"ID: {i.id}, Title: {i.title}, Teacher: {i.teacher.first_name} {i.teacher.last_name}\")"
   ]
  },
  {
   "cell_type": "markdown",
   "id": "760a050e",
   "metadata": {},
   "source": [
    "18. ค้นหานักเรียนที่มีวันลงทะเบียนระหว่างวันที่ 2023-09-02 ถึง 2024-02-01 และแสดงผลโดยเรียงวันจากน้อยไปมาก\n",
    "```\n",
    "ID: 12, Name: Laura Lopez, Enrollment Date: 2023-09-02\n",
    "ID: 7, Name: George Miller, Enrollment Date: 2023-09-05\n",
    "ID: 6, Name: Fiona Garcia, Enrollment Date: 2024-01-15\n",
    "ID: 9, Name: Ian Rodriguez, Enrollment Date: 2024-02-01\n",
    "```"
   ]
  },
  {
   "cell_type": "code",
   "execution_count": 125,
   "id": "cc680451",
   "metadata": {},
   "outputs": [
    {
     "name": "stdout",
     "output_type": "stream",
     "text": [
      "ID: 12, Name: Laura Lopez, Enrollment Date: 2023-09-02\n",
      "ID: 7, Name: George Miller, Enrollment Date: 2023-09-05\n",
      "ID: 6, Name: Fiona Garcia, Enrollment Date: 2024-01-15\n",
      "ID: 9, Name: Ian Rodriguez, Enrollment Date: 2024-02-01\n"
     ]
    }
   ],
   "source": [
    "# code\n",
    "dategte = date(2023,9,2)\n",
    "datelte = date(2024,2,1)\n",
    "allStudent = Student.objects.filter(enrollment_date__gte = dategte, enrollment_date__lte = datelte).order_by(\"enrollment_date\")\n",
    "\n",
    "for i in allStudent:\n",
    "    print(f\"ID: {i.id}, Name: {i.first_name} {i.last_name}, Enrollment Date: {i.enrollment_date}\")"
   ]
  },
  {
   "cell_type": "markdown",
   "id": "4c86cd85",
   "metadata": {},
   "source": [
    "19. ค้นหาวิชาที่อยู่ในหมวดหมู่ \"Business\" หรือ \"Technology\" และอาจารย์ที่สอนชื่อ \"Michael\" หรือ \"Jessica\" แต่ชื่อวิชาห้ามขึ้นต้นด้วย \"Introduction\" และแสดงรายละเอียดของวิชานั้น ๆ\n",
    "```\n",
    "ID: 11, Title: Digital Photography, Teacher: Jessica Miller, Category: Technology, Arts\n",
    "```"
   ]
  },
  {
   "cell_type": "code",
   "execution_count": 156,
   "id": "a8d8f4e0",
   "metadata": {},
   "outputs": [
    {
     "name": "stdout",
     "output_type": "stream",
     "text": [
      "ID: 11, Title: Digital Photography, Teacher: Jessica Miller, Category: Technology, Arts\n"
     ]
    }
   ],
   "source": [
    "# code\n",
    "# 0126 for ~\n",
    "course = Course.objects.get(Q(categories__name = \"Business\") | Q(categories__name = \"Technology\"),\n",
    "                              Q(teacher__first_name = \"Michael\") | Q(teacher__first_name = \"Jessica\"),\n",
    "                              ~Q(title__startswith = \"Introduction\"))\n",
    "\n",
    "allcat = course.categories.all()\n",
    "\n",
    "cat = []\n",
    "for i in allcat:\n",
    "    cat.append(i.name)\n",
    "    \n",
    "cat = \", \".join(cat)\n",
    "\n",
    "print(f\"ID: {course.id}, Title: {course.title}, Teacher: {course.teacher.first_name} {course.teacher.last_name}, Category: {cat}\")"
   ]
  },
  {
   "cell_type": "code",
   "execution_count": null,
   "id": "d23b3d0a",
   "metadata": {},
   "outputs": [],
   "source": []
  }
 ],
 "metadata": {
  "kernelspec": {
   "display_name": "Django Shell-Plus",
   "language": "python",
   "name": "django_extensions"
  },
  "language_info": {
   "codemirror_mode": {
    "name": "ipython",
    "version": 3
   },
   "file_extension": ".py",
   "mimetype": "text/x-python",
   "name": "python",
   "nbconvert_exporter": "python",
   "pygments_lexer": "ipython3",
   "version": "3.11.9"
  }
 },
 "nbformat": 4,
 "nbformat_minor": 5
}
