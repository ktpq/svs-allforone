{
 "cells": [
  {
   "cell_type": "code",
   "execution_count": 1,
   "id": "f6cdabe4",
   "metadata": {},
   "outputs": [],
   "source": [
    "import os\n",
    "os.environ[\"DJANGO_ALLOW_ASYNC_UNSAFE\"] = \"true\"\n"
   ]
  },
  {
   "cell_type": "code",
   "execution_count": 3,
   "id": "e862a153",
   "metadata": {},
   "outputs": [
    {
     "data": {
      "text/plain": [
       "<Company: Company CCC>"
      ]
     },
     "execution_count": 3,
     "metadata": {},
     "output_type": "execute_result"
    }
   ],
   "source": [
    "from companies.models import Company\n",
    "Company.objects.create(name=\"Company AAA\", num_employees=120, num_chairs=150, num_tables=60)\n",
    "Company.objects.create(name=\"Company BBB\", num_employees=50, num_chairs=30, num_tables=20)\n",
    "Company.objects.create(name=\"Company CCC\", num_employees=100, num_chairs=40, num_tables=40)"
   ]
  },
  {
   "cell_type": "code",
   "execution_count": 4,
   "id": "9a309ed7",
   "metadata": {},
   "outputs": [],
   "source": [
    "from django.db.models import Count, F, Value\n",
    "from django.db.models.functions import Length, Upper\n",
    "from django.db.models.lookups import GreaterThan"
   ]
  },
  {
   "cell_type": "code",
   "execution_count": 5,
   "id": "6c45d05e",
   "metadata": {},
   "outputs": [
    {
     "data": {
      "text/plain": [
       "<QuerySet [<Company: Company BBB>, <Company: Company CCC>]>"
      ]
     },
     "execution_count": 5,
     "metadata": {},
     "output_type": "execute_result"
    }
   ],
   "source": [
    "Company.objects.filter(num_employees__gt=F(\"num_chairs\"))"
   ]
  },
  {
   "cell_type": "code",
   "execution_count": 6,
   "id": "6970d016",
   "metadata": {},
   "outputs": [
    {
     "data": {
      "text/plain": [
       "<QuerySet [<Company: Company CCC>]>"
      ]
     },
     "execution_count": 6,
     "metadata": {},
     "output_type": "execute_result"
    }
   ],
   "source": [
    "Company.objects.filter(num_employees__gt=F(\"num_chairs\") * 2)"
   ]
  },
  {
   "cell_type": "code",
   "execution_count": 7,
   "id": "15170d7c",
   "metadata": {},
   "outputs": [],
   "source": [
    "company = Company.objects.filter(\n",
    "    num_employees__gt=F(\"num_chairs\")\n",
    ").annotate(\n",
    "    chairs_needed=F(\"num_employees\") - F(\"num_chairs\")\n",
    ").first()"
   ]
  },
  {
   "cell_type": "code",
   "execution_count": 8,
   "id": "65fd67f4",
   "metadata": {},
   "outputs": [
    {
     "name": "stdout",
     "output_type": "stream",
     "text": [
      "20\n"
     ]
    }
   ],
   "source": [
    "print(company.chairs_needed)"
   ]
  },
  {
   "cell_type": "code",
   "execution_count": 10,
   "id": "a3467390",
   "metadata": {},
   "outputs": [
    {
     "name": "stdout",
     "output_type": "stream",
     "text": [
      "Company AAA(AAA)\n",
      "Company BBB(BBB)\n",
      "Company CCC(CCC)\n"
     ]
    }
   ],
   "source": [
    "from django.db.models import Value\n",
    "from django.db.models.functions import Concat\n",
    "\n",
    "companies = Company.objects.annotate(\n",
    "    full_name = Concat(\"name\", Value(\"(\"), \"ticker\", Value(\")\"))\n",
    ")\n",
    "\n",
    "for com in companies:\n",
    "    print(com.full_name)"
   ]
  },
  {
   "cell_type": "code",
   "execution_count": 3,
   "id": "659d0bf0",
   "metadata": {},
   "outputs": [
    {
     "data": {
      "text/plain": [
       "<QuerySet []>"
      ]
     },
     "execution_count": 3,
     "metadata": {},
     "output_type": "execute_result"
    }
   ],
   "source": [
    "comps = Company.objects.filter(\n",
    "    num_employees__gt=F(\"num_chairs\")\n",
    ").annotate(\n",
    "    chairs_needed=F(\"num_employees\") - F(\"num_chairs\")\n",
    ").filter(\n",
    "    chairs_needed__gt = 100\n",
    ")\n",
    "\n",
    "comps"
   ]
  },
  {
   "cell_type": "code",
   "execution_count": 5,
   "id": "e9815f72",
   "metadata": {},
   "outputs": [
    {
     "data": {
      "text/plain": [
       "20"
      ]
     },
     "execution_count": 5,
     "metadata": {},
     "output_type": "execute_result"
    }
   ],
   "source": [
    "from books.models import *\n",
    "Book.objects.filter(publisher__name=\"Penguin Books\").count()"
   ]
  },
  {
   "cell_type": "code",
   "execution_count": 11,
   "id": "887d4a8d",
   "metadata": {},
   "outputs": [
    {
     "data": {
      "text/plain": [
       "{'price_avg': Decimal('9.7018644067796610'),\n",
       " 'price_min': Decimal('5.99'),\n",
       " 'price_max': Decimal('14.99')}"
      ]
     },
     "execution_count": 11,
     "metadata": {},
     "output_type": "execute_result"
    }
   ],
   "source": [
    "from django.db.models import Avg, Min, Max\n",
    "\n",
    "res = Book.objects.aggregate(\n",
    "    price_avg = Avg(\"price\", default=0),\n",
    "    price_min = Min(\"price\", default=0),\n",
    "    price_max = Max(\"price\", default=0)\n",
    ")\n",
    "res"
   ]
  },
  {
   "cell_type": "code",
   "execution_count": 10,
   "id": "49cc3d4d",
   "metadata": {},
   "outputs": [
    {
     "data": {
      "text/plain": [
       "{'price__avg': Decimal('9.6150000000000000')}"
      ]
     },
     "execution_count": 10,
     "metadata": {},
     "output_type": "execute_result"
    }
   ],
   "source": [
    "Book.objects.filter(publisher__name = \"Penguin Books\").aggregate(Avg(\"price\", default = 0))"
   ]
  },
  {
   "cell_type": "code",
   "execution_count": 12,
   "id": "a2e8af0d",
   "metadata": {},
   "outputs": [
    {
     "name": "stdout",
     "output_type": "stream",
     "text": [
      "PUB: Oxford University Press => BOOK NUM: 39\n",
      "PUB: Penguin Books => BOOK NUM: 20\n"
     ]
    }
   ],
   "source": [
    "pubs = Publisher.objects.annotate(num_books = Count(\"book\"))\n",
    "for pub in pubs:\n",
    "    print(f\"PUB: {pub.name} => BOOK NUM: {pub.num_books}\")"
   ]
  },
  {
   "cell_type": "code",
   "execution_count": 13,
   "id": "6a79d6b0",
   "metadata": {},
   "outputs": [
    {
     "name": "stdout",
     "output_type": "stream",
     "text": [
      "PUB: Oxford University Press => AVG PRICE: 9.7464102564102564\n",
      "PUB: Penguin Books => AVG PRICE: 9.6150000000000000\n"
     ]
    }
   ],
   "source": [
    "pubs = Publisher.objects.annotate(avg_price = Avg(\"book__price\"))\n",
    "for pub in pubs:\n",
    "    print(f\"PUB: {pub.name} => AVG PRICE: {pub.avg_price}\")"
   ]
  },
  {
   "cell_type": "code",
   "execution_count": 14,
   "id": "7874c2c3",
   "metadata": {},
   "outputs": [
    {
     "name": "stdout",
     "output_type": "stream",
     "text": [
      "PUB : Oxford University Press => BOOK NUM (RATING > 4): 33\n",
      "PUB : Penguin Books => BOOK NUM (RATING > 4): 16\n"
     ]
    }
   ],
   "source": [
    "from django.db.models import Q\n",
    "above = Publisher.objects.annotate(above_4=Count(\"book\", filter=Q(book__rating__gt=4)))\n",
    "below = Publisher.objects.annotate(below_4=Count(\"book\", filter=Q(book__rating__lte=4)))\n",
    "\n"
   ]
  },
  {
   "cell_type": "code",
   "execution_count": 15,
   "id": "fcf7d07e",
   "metadata": {},
   "outputs": [
    {
     "name": "stdout",
     "output_type": "stream",
     "text": [
      "PUB : Oxford University Press => BOOK NUM (RATING > 4): 33\n",
      "PUB : Penguin Books => BOOK NUM (RATING > 4): 16\n"
     ]
    }
   ],
   "source": [
    "for item in above:\n",
    "    print(f\"PUB : {item.name} => BOOK NUM (RATING > 4): {item.above_4}\")"
   ]
  },
  {
   "cell_type": "code",
   "execution_count": 16,
   "id": "967a685f",
   "metadata": {},
   "outputs": [
    {
     "name": "stdout",
     "output_type": "stream",
     "text": [
      "PUB : Oxford University Press => BOOK NUM (RATING <= 4): 6\n",
      "PUB : Penguin Books => BOOK NUM (RATING <= 4): 4\n"
     ]
    }
   ],
   "source": [
    "for item in below:\n",
    "    print(f\"PUB : {item.name} => BOOK NUM (RATING <= 4): {item.below_4}\")"
   ]
  },
  {
   "cell_type": "code",
   "execution_count": 18,
   "id": "d87ff155",
   "metadata": {},
   "outputs": [
    {
     "name": "stdout",
     "output_type": "stream",
     "text": [
      "PUB: Penguin Books => BOOK NUM: 20\n",
      "PUB: Oxford University Press => BOOK NUM: 39\n"
     ]
    }
   ],
   "source": [
    "pubs = Publisher.objects.annotate(num_books=Count(\"book\")).order_by(\"num_books\")\n",
    "for pub in pubs:\n",
    "    print(f\"PUB: {pub.name} => BOOK NUM: {pub.num_books}\")"
   ]
  },
  {
   "cell_type": "code",
   "execution_count": 23,
   "id": "964bb650",
   "metadata": {},
   "outputs": [
    {
     "name": "stdout",
     "output_type": "stream",
     "text": [
      "NAME: Madame Bovary, NUM STORE: 1, NUM AUTHORS: 1\n",
      "NAME: The Hobbit, NUM STORE: 1, NUM AUTHORS: 1\n",
      "NAME: David Copperfield, NUM STORE: 1, NUM AUTHORS: 1\n",
      "NAME: The Divine Comedy, NUM STORE: 1, NUM AUTHORS: 1\n",
      "NAME: Pride and Prejudice, NUM STORE: 1, NUM AUTHORS: 1\n",
      "NAME: Great Expectations, NUM STORE: 1, NUM AUTHORS: 1\n",
      "NAME: Sense and Sensibility, NUM STORE: 1, NUM AUTHORS: 1\n",
      "NAME: The Scarlet Letter, NUM STORE: 1, NUM AUTHORS: 1\n",
      "NAME: Moby-Dick, NUM STORE: 1, NUM AUTHORS: 1\n",
      "NAME: The Catch 22, NUM STORE: 1, NUM AUTHORS: 1\n"
     ]
    }
   ],
   "source": [
    "books = Book.objects.annotate(\n",
    "    num_authors=Count(\"authors\"),\n",
    "    num_stores = Count(\"store\")\n",
    ").order_by(\"-num_stores\", \"-num_authors\")[:10]\n",
    "\n",
    "for book in books:\n",
    "    print(f\"NAME: {book.name}, NUM STORE: {book.num_stores}, NUM AUTHORS: {book.num_authors}\")"
   ]
  },
  {
   "cell_type": "code",
   "execution_count": 26,
   "id": "eca35bd0",
   "metadata": {},
   "outputs": [
    {
     "name": "stdout",
     "output_type": "stream",
     "text": [
      "{'name': 'The Great Gatsby', 'pages': 180, 'price': Decimal('10.99')}\n",
      "{'name': '1984', 'pages': 328, 'price': Decimal('8.99')}\n",
      "{'name': 'To Kill a Mockingbird', 'pages': 281, 'price': Decimal('7.99')}\n"
     ]
    }
   ],
   "source": [
    "books = Book.objects.all().values(\"name\", \"pages\", \"price\")[:3]\n",
    "for book in books:\n",
    "    print(book)"
   ]
  },
  {
   "cell_type": "code",
   "execution_count": null,
   "id": "23f2e7fe",
   "metadata": {},
   "outputs": [],
   "source": []
  }
 ],
 "metadata": {
  "kernelspec": {
   "display_name": "Django Shell-Plus",
   "language": "python",
   "name": "django_extensions"
  },
  "language_info": {
   "codemirror_mode": {
    "name": "ipython",
    "version": 3
   },
   "file_extension": ".py",
   "mimetype": "text/x-python",
   "name": "python",
   "nbconvert_exporter": "python",
   "pygments_lexer": "ipython3",
   "version": "3.13.0"
  }
 },
 "nbformat": 4,
 "nbformat_minor": 5
}
